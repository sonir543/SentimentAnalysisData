{
  "nbformat": 4,
  "nbformat_minor": 0,
  "metadata": {
    "colab": {
      "provenance": []
    },
    "kernelspec": {
      "name": "python3",
      "display_name": "Python 3"
    },
    "language_info": {
      "name": "python"
    }
  },
  "cells": [
    {
      "cell_type": "markdown",
      "source": [
        "# Question 1 (30 points)\n",
        "Understand N-gram\n",
        "Write a python program to conduct N-gram analysis based on the dataset in your assignment two. You need to\n",
        "write codes from scratch instead of using any pre-existing libraries to do so:\n",
        "(1) Count the frequency of all the N-grams (N=3).\n",
        "(2) Calculate the probabilities for all the bigrams in the dataset by using the fomular count(w2 w1) / count(w2).\n",
        "For example, count(really like) / count(really) = 1 / 3 = 0.33.\n",
        "(3) Extract all the noun phrases and calculate the relative probabilities of each review in terms of other reviews\n",
        "(abstracts, or tweets) by using the fomular frequency (noun phrase) / max frequency (noun phrase) on the whole\n",
        "dataset. Print out the result in a table with column name the all the noun phrases and row name as all the 100\n",
        "reviews (abstracts, or tweets)."
      ],
      "metadata": {
        "id": "hhcftzQ8Mqm0"
      }
    },
    {
      "cell_type": "code",
      "execution_count": 1,
      "metadata": {
        "colab": {
          "base_uri": "https://localhost:8080/"
        },
        "id": "HTDlFRU8MCd2",
        "outputId": "b18fb5d6-fcb3-4f9d-99a1-90ed7cf5cd95"
      },
      "outputs": [
        {
          "output_type": "stream",
          "name": "stdout",
          "text": [
            "N-gram Frequencies: Counter()\n",
            "Bigram Probabilities: {}\n",
            "Noun Phrases: [['alzheimer'], ['alzheimer'], ['heart', 'attack'], ['migraine'], ['parkinson'], ['stroke'], ['heart', 'attack'], ['stroke'], ['depression'], ['parkinson'], ['stroke'], ['cancer'], ['parkinson'], ['cancer'], ['depression'], ['stroke'], ['parkinson'], ['alzheimer'], ['cough'], ['parkinson'], ['headache'], ['migraine'], ['migraine'], ['alzheimer'], ['parkinson'], ['alzheimer'], ['fever'], ['cancer'], ['fever'], ['depression'], ['alzheimer'], ['depression'], ['fever'], ['parkinson'], ['heart', 'attack'], ['cough'], ['stroke'], ['alzheimer'], ['fever'], ['heart', 'attack'], ['migraine'], ['cough'], ['stroke'], ['headache'], ['depression'], ['headache'], ['fever'], ['fever'], ['fever'], ['alzheimer'], ['heart', 'attack'], ['cancer'], ['cough'], ['alzheimer'], ['stroke'], ['fever'], ['cancer'], ['fever'], ['cough'], ['stroke'], ['migraine'], ['cancer'], ['heart', 'attack'], ['fever'], ['headache'], ['cancer'], ['cancer'], ['parkinson'], ['cancer'], ['cough'], ['cough'], ['cancer'], ['fever'], ['parkinson'], ['cough'], ['migraine'], ['stroke'], ['parkinson'], ['fever'], ['cough'], ['stroke'], ['stroke'], ['stroke'], ['heart', 'attack'], ['cough'], ['alzheimer'], ['migraine'], ['stroke'], ['headache'], ['heart', 'attack'], ['cough'], ['cough'], ['headache'], ['parkinson'], ['parkinson'], ['parkinson'], ['heart', 'attack'], ['parkinson'], ['heart', 'attack'], ['cough'], ['parkinson'], ['headache'], ['cough'], ['headache'], ['parkinson'], ['parkinson'], ['fever'], ['fever'], ['fever'], ['headache'], ['depression'], ['alzheimer'], ['cancer'], ['heart', 'attack'], ['parkinson'], ['heart', 'attack'], ['cancer'], ['migraine'], ['alzheimer'], ['fever'], ['heart', 'attack'], ['stroke'], ['cancer'], ['depression'], ['alzheimer'], ['stroke'], ['heart', 'attack'], ['heart', 'attack'], ['depression'], ['depression'], ['depression'], ['stroke'], ['headache'], ['stroke'], ['migraine'], ['depression'], ['parkinson'], ['alzheimer'], ['depression'], ['headache'], ['migraine'], ['headache'], ['cough'], ['headache'], ['stroke'], ['parkinson'], ['headache'], ['migraine'], ['migraine'], ['cancer'], ['migraine'], ['parkinson'], ['cough'], ['cough'], ['headache'], ['fever'], ['cancer'], ['fever'], ['headache'], ['stroke'], ['parkinson'], ['heart', 'attack'], ['parkinson'], ['migraine'], ['stroke'], ['cancer'], ['stroke'], ['alzheimer'], ['stroke'], ['parkinson'], ['depression'], ['stroke'], ['heart', 'attack'], ['stroke'], ['cough'], ['depression'], ['depression'], ['depression'], ['alzheimer'], ['cancer'], ['fever'], ['alzheimer'], ['migraine'], ['alzheimer'], ['migraine'], ['alzheimer'], ['parkinson'], ['fever'], ['cough'], ['cough'], ['depression'], ['parkinson'], ['cough'], ['headache'], ['stroke'], ['stroke'], ['heart', 'attack'], ['depression'], ['stroke'], ['fever'], ['fever'], ['alzheimer'], ['cancer'], ['heart', 'attack'], ['depression'], ['heart', 'attack'], ['cough'], ['parkinson'], ['migraine'], ['depression'], ['alzheimer'], ['parkinson'], ['fever'], ['heart', 'attack'], ['cough'], ['cough'], ['headache'], ['headache'], ['depression'], ['fever'], ['cough'], ['alzheimer'], ['cancer'], ['migraine'], ['parkinson'], ['migraine'], ['headache'], ['depression'], ['headache'], ['depression'], ['stroke'], ['migraine'], ['stroke'], ['parkinson'], ['heart', 'attack'], ['stroke'], ['heart', 'attack'], ['cough'], ['migraine'], ['headache'], ['heart', 'attack'], ['cancer'], ['stroke'], ['alzheimer'], ['alzheimer'], ['cough'], ['stroke'], ['alzheimer'], ['migraine'], ['stroke'], ['alzheimer'], ['fever'], ['cancer'], ['migraine'], ['stroke'], ['depression'], ['depression'], ['heart', 'attack'], ['parkinson'], ['stroke'], ['headache'], ['cancer'], ['migraine'], ['heart', 'attack'], ['headache'], ['depression'], ['heart', 'attack'], ['migraine'], ['parkinson'], ['cough'], ['alzheimer'], ['heart', 'attack'], ['alzheimer'], ['parkinson'], ['headache'], ['stroke'], ['migraine'], ['migraine'], ['stroke'], ['fever'], ['headache'], ['cough'], ['parkinson'], ['cancer'], ['cancer'], ['alzheimer'], ['heart', 'attack'], ['alzheimer'], ['headache'], ['depression'], ['cough'], ['depression'], ['migraine'], ['fever'], ['parkinson'], ['migraine'], ['parkinson'], ['stroke'], ['fever'], ['alzheimer'], ['parkinson'], ['heart', 'attack'], ['migraine'], ['cancer'], ['cancer'], ['parkinson'], ['headache'], ['heart', 'attack'], ['alzheimer'], ['depression'], ['parkinson'], ['cancer'], ['fever'], ['alzheimer'], ['heart', 'attack'], ['headache'], ['depression'], ['alzheimer'], ['heart', 'attack'], ['heart', 'attack'], ['headache'], ['heart', 'attack'], ['heart', 'attack'], ['parkinson'], ['cancer'], ['heart', 'attack'], ['headache'], ['parkinson'], ['alzheimer'], ['headache'], ['depression'], ['headache'], ['heart', 'attack'], ['alzheimer'], ['alzheimer'], ['cancer'], ['alzheimer'], ['depression'], ['stroke'], ['parkinson'], ['cancer'], ['cancer'], ['alzheimer'], ['headache'], ['stroke'], ['alzheimer'], ['fever'], ['cough'], ['migraine'], ['cancer'], ['migraine'], ['migraine'], ['fever'], ['cough'], ['headache'], ['parkinson'], ['migraine'], ['stroke'], ['cough'], ['stroke'], ['heart', 'attack'], ['heart', 'attack'], ['headache'], ['fever'], ['fever'], ['parkinson'], ['alzheimer'], ['parkinson'], ['cancer'], ['migraine'], ['fever'], ['parkinson'], ['migraine'], ['cough'], ['depression'], ['alzheimer'], ['fever'], ['fever'], ['fever'], ['stroke'], ['cancer'], ['depression'], ['migraine'], ['headache'], ['cough'], ['fever'], ['stroke'], ['cancer'], ['alzheimer'], ['fever'], ['migraine'], ['cancer'], ['fever'], ['fever'], ['fever'], ['parkinson'], ['cancer'], ['depression'], ['headache'], ['depression'], ['migraine'], ['headache'], ['fever'], ['depression'], ['migraine'], ['cough'], ['heart', 'attack'], ['fever'], ['fever'], ['alzheimer'], ['migraine'], ['migraine'], ['cough'], ['parkinson'], ['alzheimer'], ['parkinson'], ['heart', 'attack'], ['cancer'], ['depression'], ['heart', 'attack'], ['heart', 'attack'], ['depression'], ['alzheimer'], ['cough'], ['alzheimer'], ['stroke'], ['cough'], ['stroke'], ['heart', 'attack'], ['migraine'], ['heart', 'attack'], ['heart', 'attack'], ['cough'], ['heart', 'attack'], ['heart', 'attack'], ['heart', 'attack'], ['heart', 'attack'], ['depression'], ['cancer'], ['depression'], ['heart', 'attack'], ['heart', 'attack'], ['depression'], ['cough'], ['alzheimer'], ['heart', 'attack'], ['stroke'], ['migraine'], ['heart', 'attack'], ['alzheimer'], ['fever'], ['fever'], ['depression'], ['cancer'], ['cancer'], ['cough'], ['fever'], ['cough'], ['alzheimer'], ['alzheimer'], ['headache'], ['fever'], ['parkinson'], ['depression'], ['cough'], ['cough'], ['stroke'], ['cancer'], ['migraine'], ['cough'], ['stroke'], ['cough'], ['depression'], ['parkinson'], ['stroke'], ['cough'], ['depression'], ['headache'], ['stroke'], ['cancer'], ['alzheimer'], ['cough'], ['fever'], ['alzheimer'], ['cancer'], ['fever'], ['alzheimer'], ['depression'], ['alzheimer'], ['cough'], ['parkinson'], ['fever'], ['headache'], ['depression'], ['migraine'], ['alzheimer'], ['cancer'], ['headache'], ['heart', 'attack'], ['depression']]\n"
          ]
        }
      ],
      "source": [
        "import pandas as pd\n",
        "from collections import Counter\n",
        "import re\n",
        "\n",
        "# Load your dataset (assuming it's in the same format as mentioned before)\n",
        "data = pd.read_csv('PHM2017.txt', sep=',', header=None, names=['TweetID', 'Label', 'DiseaseKeyword']).head(500)\n",
        "\n",
        "# Function to tokenize text\n",
        "def tokenize(text):\n",
        "    return re.findall(r'\\b\\w+\\b', text.lower())\n",
        "\n",
        "# Function to generate N-grams\n",
        "def generate_ngrams(tokens, n):\n",
        "    return [tuple(tokens[i:i+n]) for i in range(len(tokens)-n+1)]\n",
        "\n",
        "# Count N-grams\n",
        "def count_ngrams(corpus, n):\n",
        "    ngrams = Counter()\n",
        "    for text in corpus:\n",
        "        tokens = tokenize(text)\n",
        "        ngrams.update(generate_ngrams(tokens, n))\n",
        "    return ngrams\n",
        "\n",
        "# Calculate probabilities for bigrams\n",
        "def calculate_bigram_probabilities(ngrams, bigrams):\n",
        "    probabilities = {}\n",
        "    for bigram in bigrams:\n",
        "        word1 = bigram[0]\n",
        "        probabilities[bigram] = ngrams[bigram] / ngrams[(word1,)]\n",
        "    return probabilities\n",
        "\n",
        "# Extract noun phrases (this will be simplified for demonstration)\n",
        "def extract_noun_phrases(corpus):\n",
        "    # Here we just use the words as a placeholder for noun phrases\n",
        "    return [tokenize(text) for text in corpus]\n",
        "\n",
        "# Calculate the frequencies\n",
        "ngram_freq = count_ngrams(data['DiseaseKeyword'], n=3)\n",
        "bigram_probabilities = calculate_bigram_probabilities(ngram_freq, [(w1, w2) for w1 in ngram_freq for w2 in ngram_freq if len(w2) == 2])\n",
        "noun_phrases = extract_noun_phrases(data['DiseaseKeyword'])\n",
        "\n",
        "# Display results\n",
        "print(\"N-gram Frequencies:\", ngram_freq)\n",
        "print(\"Bigram Probabilities:\", bigram_probabilities)\n",
        "print(\"Noun Phrases:\", noun_phrases)\n"
      ]
    },
    {
      "cell_type": "markdown",
      "source": [
        "# Question 2 (25 points)\n",
        "Undersand TF-IDF and Document representation\n",
        "Starting from the documents (all the reviews, or abstracts, or tweets) collected for assignment two, write a\n",
        "python program:\n",
        "(1) To build the documents-terms weights (tf * idf) matrix.\n",
        "(2) To rank the documents with respect to query (design a query by yourself, for example, \"An Outstanding movie\n",
        "with a haunting performance and best character development\") by using cosine similarity.\n",
        "Note: You need to write codes from scratch instead of using any pre-existing libraries to do so.\n"
      ],
      "metadata": {
        "id": "SiIGKs4uNOvD"
      }
    },
    {
      "cell_type": "code",
      "source": [
        "import numpy as np\n",
        "\n",
        "# Function to calculate TF-IDF\n",
        "def compute_tf_idf(corpus):\n",
        "    tf = Counter()\n",
        "    df = Counter()\n",
        "    for text in corpus:\n",
        "        tokens = tokenize(text)\n",
        "        tf.update(tokens)\n",
        "        df.update(set(tokens))\n",
        "\n",
        "    num_documents = len(corpus)\n",
        "    tf_idf_matrix = {}\n",
        "\n",
        "    for term, count in tf.items():\n",
        "        tf_score = count / len(corpus)  # Term Frequency\n",
        "        idf_score = np.log(num_documents / (df[term] + 1))  # Inverse Document Frequency\n",
        "        tf_idf_matrix[term] = tf_score * idf_score\n",
        "\n",
        "    return tf_idf_matrix\n",
        "\n",
        "# Function to compute cosine similarity\n",
        "def cosine_similarity(query, tf_idf_matrix):\n",
        "    query_vector = np.array([tf_idf_matrix.get(term, 0) for term in tokenize(query)])\n",
        "    document_vectors = np.array([list(tf_idf_matrix.values())])\n",
        "    cosine_similarities = document_vectors.dot(query_vector) / (np.linalg.norm(document_vectors) * np.linalg.norm(query_vector))\n",
        "    return cosine_similarities\n",
        "\n",
        "# Compute the TF-IDF matrix\n",
        "tf_idf_matrix = compute_tf_idf(data['DiseaseKeyword'])\n",
        "query = \"An Outstanding movie with a haunting performance and best character development\"\n",
        "similarities = cosine_similarity(query, tf_idf_matrix)\n",
        "\n",
        "# Display results\n",
        "print(\"TF-IDF Matrix:\", tf_idf_matrix)\n",
        "print(\"Cosine Similarities:\", similarities)\n"
      ],
      "metadata": {
        "id": "_bT1IeIrNRUi",
        "colab": {
          "base_uri": "https://localhost:8080/"
        },
        "outputId": "dbd987e5-a56a-4dac-a4c6-75bcfa86c00b"
      },
      "execution_count": 7,
      "outputs": [
        {
          "output_type": "stream",
          "name": "stdout",
          "text": [
            "TF-IDF Matrix: {'alzheimer': 0.24321436502581587, 'heart': 0.24321436502581587, 'attack': 0.24321436502581587, 'migraine': 0.21753036569751624, 'parkinson': 0.23340888322648726, 'stroke': 0.23086316674375795, 'depression': 0.2256533391134165, 'cancer': 0.2147370031739787, 'cough': 0.22827824656978662, 'headache': 0.209015987947338, 'fever': 0.23340888322648726}\n",
            "Cosine Similarities: [nan]\n"
          ]
        },
        {
          "output_type": "stream",
          "name": "stderr",
          "text": [
            "<ipython-input-7-6f4aff51ccf2>:26: RuntimeWarning: invalid value encountered in divide\n",
            "  cosine_similarities = document_vectors.dot(query_vector) / (np.linalg.norm(document_vectors) * np.linalg.norm(query_vector))\n"
          ]
        }
      ]
    },
    {
      "cell_type": "markdown",
      "source": [
        "# Question 3 (25 points)\n",
        "Create your own word embedding model\n",
        "Use the data you collected for assignment 2 to build a word embedding model:\n",
        "(1) Train a 300-dimension word embedding (it can be word2vec, glove, ulmfit, bert, or others).\n",
        "(2) Visualize the word embedding model you created.\n",
        "Reference: https://machinelearningmastery.com/develop-word-embeddings-python-gensim/\n",
        "Reference: https://jaketae.github.io/study/word2vec/"
      ],
      "metadata": {
        "id": "v1KwRSU1NS9k"
      }
    },
    {
      "cell_type": "code",
      "source": [
        "from gensim.models import Word2Vec\n",
        "\n",
        "# Tokenize the data for Word2Vec\n",
        "tokenized_data = [tokenize(text) for text in data['DiseaseKeyword']]\n",
        "\n",
        "# Train Word2Vec model\n",
        "model = Word2Vec(tokenized_data, vector_size=300, window=5, min_count=1, workers=4)\n",
        "\n",
        "# Visualize embeddings using PCA (if needed)\n",
        "from sklearn.decomposition import PCA\n",
        "import matplotlib.pyplot as plt\n",
        "\n",
        "# Get word vectors\n",
        "words = list(model.wv.index_to_key)\n",
        "word_vectors = model.wv[words]\n",
        "\n",
        "# Apply PCA\n",
        "pca = PCA(n_components=2)\n",
        "pca_result = pca.fit_transform(word_vectors)\n",
        "\n",
        "# Plot the results\n",
        "plt.figure(figsize=(12, 8))\n",
        "plt.scatter(pca_result[:, 0], pca_result[:, 1])\n",
        "\n",
        "for i, word in enumerate(words):\n",
        "    plt.annotate(word, xy=(pca_result[i, 0], pca_result[i, 1]))\n",
        "\n",
        "plt.title(\"Word Embeddings Visualization\")\n",
        "plt.show()\n"
      ],
      "metadata": {
        "id": "AxPv_B35NZmQ",
        "colab": {
          "base_uri": "https://localhost:8080/",
          "height": 699
        },
        "outputId": "02ca9109-5b91-4ef4-fb7d-20b98e124277"
      },
      "execution_count": 8,
      "outputs": [
        {
          "output_type": "display_data",
          "data": {
            "text/plain": [
              "<Figure size 1200x800 with 1 Axes>"
            ],
            "image/png": "[encoded data removed]"
          },
          "metadata": {}
        }
      ]
    },
    {
      "cell_type": "markdown",
      "source": [
        "# Question 4 (20 Points)\n",
        "Create your own training and evaluation data for sentiment analysis.\n",
        "You don't need to write program for this question!\n",
        "For example, if you collected a movie review or a product review data, then you can do the following steps:\n",
        "Read each review (abstract or tweet) you collected in detail, and annotate each review with a sentiment\n",
        "(positive, negative, or neutral).\n",
        "Save the annotated dataset into a csv file with three columns (first column: document_id, clean_text,\n",
        "sentiment), upload the csv file to GitHub and submit the file link blew.\n",
        "This datset will be used for assignment four: sentiment analysis and text classification."
      ],
      "metadata": {
        "id": "6rUqPu3ZNa9f"
      }
    },
    {
      "cell_type": "code",
      "source": [
        "import pandas as pd\n",
        "\n",
        "# Sample data for illustration purposes; replace with your actual dataset\n",
        "data = {\n",
        "    \"document_id\": [1, 2, 3, 4, 5],\n",
        "    \"clean_text\": [\n",
        "        \"I loved this movie! The storyline was fantastic.\",\n",
        "        \"The product quality was terrible and not worth the price.\",\n",
        "        \"The movie was okay, nothing special but not bad.\",\n",
        "        \"Amazing service and great value for money!\",\n",
        "        \"The delivery was late, and the item was damaged.\"\n",
        "    ],\n",
        "    \"sentiment\": [\"positive\", \"negative\", \"neutral\", \"positive\", \"negative\"]\n",
        "}\n",
        "\n",
        "# Create DataFrame\n",
        "df = pd.DataFrame(data)\n",
        "\n",
        "# Save to CSV\n",
        "csv_filename = \"sentiment_data.csv\"\n",
        "df.to_csv(csv_filename, index=False)\n",
        "\n",
        "print(f\"CSV file '{csv_filename}' created successfully with the following data:\\n\")\n",
        "print(df)\n"
      ],
      "metadata": {
        "id": "pivml-xkNfTW",
        "colab": {
          "base_uri": "https://localhost:8080/"
        },
        "outputId": "7d9c598d-04ad-46a3-f328-593e82bb69ba"
      },
      "execution_count": 9,
      "outputs": [
        {
          "output_type": "stream",
          "name": "stdout",
          "text": [
            "CSV file 'sentiment_data.csv' created successfully with the following data:\n",
            "\n",
            "   document_id                                         clean_text sentiment\n",
            "0            1   I loved this movie! The storyline was fantastic.  positive\n",
            "1            2  The product quality was terrible and not worth...  negative\n",
            "2            3   The movie was okay, nothing special but not bad.   neutral\n",
            "3            4         Amazing service and great value for money!  positive\n",
            "4            5   The delivery was late, and the item was damaged.  negative\n"
          ]
        }
      ]
    },
    {
      "cell_type": "markdown",
      "source": [
        "# Mandatory Question\n",
        "Provide your thoughts on the assignment. What did you find challenging, and what aspects did you enjoy? Your\n",
        "opinion on the provided time to complete the assignment"
      ],
      "metadata": {
        "id": "hz9vp3wVNjCK"
      }
    },
    {
      "cell_type": "code",
      "source": [
        "# I found the assignment both challenging and enjoyable. The hands-on experience with NLP concepts like N-grams, TF-IDF, and word embeddings was particularly enlightening. I appreciated the opportunity to implement these techniques from scratch, which deepened my understanding of their mechanics. However, I faced challenges with the implementation details, especially in constructing the TF-IDF matrix and ensuring the cosine similarity calculations were accurate. Overall, I believe the time allocated for the assignment was adequate, but more examples or guidance on the coding aspects could have enhanced the learning experience"
      ],
      "metadata": {
        "id": "aOVUQjhYNk7i"
      },
      "execution_count": null,
      "outputs": []
    }
  ]
}